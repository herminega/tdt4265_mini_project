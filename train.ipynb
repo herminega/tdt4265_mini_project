{
 "cells": [
  {
   "cell_type": "code",
   "execution_count": null,
   "metadata": {},
   "outputs": [],
   "source": [
    "import sys\n",
    "import os\n",
    "\n",
    "sys.path.append(os.path.abspath(\"src\"))  # Ensure Python knows about 'src/'"
   ]
  },
  {
   "cell_type": "code",
   "execution_count": null,
   "metadata": {},
   "outputs": [],
   "source": [
    "from src.train import Trainer"
   ]
  },
  {
   "cell_type": "code",
   "execution_count": null,
   "metadata": {},
   "outputs": [],
   "source": [
    "# Set dataset directory\n",
    "data_dir = \"/cluster/projects/vc/data/mic/open/HNTS-MRG\"\n",
    "\n",
    "# Initialize Trainer\n",
    "trainer = Trainer(\n",
    "    data_dir=data_dir,\n",
    "    batch_size=3,\n",
    "    learning_rate=2e-3,\n",
    "    early_stop_count=5,\n",
    "    epochs=10, \n",
    "    validation_interval=10,\n",
    "    in_channels=1, \n",
    "    out_channels=1\n",
    ")\n",
    "\n",
    "# Train the model\n",
    "trainer.train()"
   ]
  },
  {
   "cell_type": "code",
   "execution_count": null,
   "metadata": {},
   "outputs": [],
   "source": [
    "# Save the final model\n",
    "trainer.save_model(\"results/unet3d_mri.pth\")"
   ]
  }
 ],
 "metadata": {
  "kernelspec": {
   "display_name": "tdt4265_medseg",
   "language": "python",
   "name": "python3"
  },
  "language_info": {
   "codemirror_mode": {
    "name": "ipython",
    "version": 3
   },
   "file_extension": ".py",
   "mimetype": "text/x-python",
   "name": "python",
   "nbconvert_exporter": "python",
   "pygments_lexer": "ipython3",
   "version": "3.9.21"
  }
 },
 "nbformat": 4,
 "nbformat_minor": 2
}
