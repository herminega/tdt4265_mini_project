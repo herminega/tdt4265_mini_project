{
 "cells": [
  {
   "cell_type": "markdown",
   "id": "930e3fb0",
   "metadata": {},
   "source": [
    "<b>EDA - Exploratory Data Analysis</b>\n",
    "\n",
    "This notebook performs exploratory data analysis on the brain MRI segmentation dataset.\n",
    "You will see:\n",
    "\n",
    "- Dataset sizes (train/test)\n",
    "\n",
    "- Number of slices per volume\n",
    "\n",
    "- Voxel spacing (if available)\n",
    "\n",
    "- Intensity distributions\n",
    "\n",
    "- Class mask counts & tumor‐pixel ratios\n",
    "\n",
    "- Example slice visualizations"
   ]
  },
  {
   "cell_type": "code",
   "execution_count": 1,
   "id": "44ff06df",
   "metadata": {},
   "outputs": [
    {
     "name": "stderr",
     "output_type": "stream",
     "text": [
      "/home/herminea/.local/lib/python3.10/site-packages/ignite/handlers/checkpoint.py:17: DeprecationWarning: `TorchScript` support for functional optimizers is deprecated and will be removed in a future PyTorch release. Consider using the `torch.compile` optimizer instead.\n",
      "  from torch.distributed.optim import ZeroRedundancyOptimizer\n",
      "/usr/lib/python3/dist-packages/scipy/__init__.py:146: UserWarning: A NumPy version >=1.17.3 and <1.25.0 is required for this version of SciPy (detected version 1.26.4\n",
      "  warnings.warn(f\"A NumPy version >={np_minversion} and <{np_maxversion}\"\n",
      "2025-04-20 20:45:33.204742: I tensorflow/core/util/port.cc:113] oneDNN custom operations are on. You may see slightly different numerical results due to floating-point round-off errors from different computation orders. To turn them off, set the environment variable `TF_ENABLE_ONEDNN_OPTS=0`.\n",
      "2025-04-20 20:45:33.233199: I tensorflow/core/platform/cpu_feature_guard.cc:210] This TensorFlow binary is optimized to use available CPU instructions in performance-critical operations.\n",
      "To enable the following instructions: AVX2 AVX512F AVX512_VNNI AVX512_BF16 FMA, in other operations, rebuild TensorFlow with the appropriate compiler flags.\n",
      "2025-04-20 20:45:33.750260: W tensorflow/compiler/tf2tensorrt/utils/py_utils.cc:38] TF-TRT Warning: Could not find TensorRT\n"
     ]
    }
   ],
   "source": [
    "### IMPORTS ###\n",
    "# notebooks/eda.ipynb, first cell:\n",
    "import sys, os\n",
    "import matplotlib.pyplot as plt\n",
    "# point at the project’s src/ folder\n",
    "sys.path.insert(0, os.path.abspath(os.path.join(\"..\", \"src\")))\n",
    "\n",
    "# now import from the utils package\n",
    "from utils.eda import gather_stats, plot_distributions\n",
    "\n",
    "# and bring in your MONAI loader\n",
    "from dataloader.dataloader import get_mri_dataloader\n"
   ]
  },
  {
   "cell_type": "code",
   "execution_count": null,
   "id": "b70a8f2d",
   "metadata": {},
   "outputs": [
    {
     "name": "stderr",
     "output_type": "stream",
     "text": [
      "Loading dataset:   5%|▍         | 6/130 [00:06<02:25,  1.17s/it]"
     ]
    }
   ],
   "source": [
    "DATA_DIR = \"/datasets/tdt4265/mic/open/HNTS-MRG\"\n",
    "\n",
    "# 1) build a per‑case stats DataFrame\n",
    "df = gather_stats(DATA_DIR)\n",
    "print(\"Per‑case summary (first 5 rows):\")\n",
    "display(df.head())\n",
    "\n",
    "print(\"Descriptive statistics:\")\n",
    "display(df.describe())\n",
    "\n",
    "# 2) histogram all the key columns\n",
    "plot_distributions(df)\n",
    "\n",
    "# 3) show a few example slices overlaid with mask\n",
    "train_loader, _ = get_mri_dataloader(\n",
    "    DATA_DIR, subset=\"train\", batch_size=1, validation_fraction=0.0\n",
    ")\n",
    "for i, batch in zip(range(3), train_loader):\n",
    "    img = batch[\"image\"][0].cpu().numpy().squeeze()\n",
    "    lbl = batch[\"label\"][0].cpu().numpy().squeeze()\n",
    "    mid = img.shape[2] // 2\n",
    "\n",
    "    fig, (ax1,ax2,ax3) = plt.subplots(1,3, figsize=(12,4))\n",
    "    ax1.imshow(img[...,mid], cmap=\"gray\")\n",
    "    ax1.set_title(f\"Raw {i}, slice {mid}\")\n",
    "    ax2.imshow(lbl[...,mid], cmap=\"tab10\")\n",
    "    ax2.set_title(\"Mask\")\n",
    "    ax3.imshow(img[...,mid], cmap=\"gray\")\n",
    "    ax3.imshow(lbl[...,mid], cmap=\"tab10\", alpha=0.5)\n",
    "    ax3.set_title(\"Overlay\")\n",
    "    for ax in (ax1,ax2,ax3): ax.axis(\"off\")\n",
    "    plt.show()\n"
   ]
  }
 ],
 "metadata": {
  "kernelspec": {
   "display_name": "Python 3",
   "language": "python",
   "name": "python3"
  },
  "language_info": {
   "codemirror_mode": {
    "name": "ipython",
    "version": 3
   },
   "file_extension": ".py",
   "mimetype": "text/x-python",
   "name": "python",
   "nbconvert_exporter": "python",
   "pygments_lexer": "ipython3",
   "version": "3.10.12"
  }
 },
 "nbformat": 4,
 "nbformat_minor": 5
}
